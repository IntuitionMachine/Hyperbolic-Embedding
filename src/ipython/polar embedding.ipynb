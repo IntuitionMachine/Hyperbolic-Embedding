{
 "cells": [
  {
   "cell_type": "code",
   "execution_count": 1,
   "metadata": {
    "collapsed": true
   },
   "outputs": [],
   "source": [
    "import tensorflow as tf\n",
    "import math"
   ]
  },
  {
   "cell_type": "code",
   "execution_count": 23,
   "metadata": {
    "collapsed": true
   },
   "outputs": [],
   "source": [
    "def atan2(x, y, epsilon=1.0e-12):\n",
    "        \"\"\"\n",
    "        A hack until the tf developers implement a function that can find the angle from an x and y co-ordinate.\n",
    "        :param x: \n",
    "        :param epsilon: \n",
    "        :return: \n",
    "        \"\"\"\n",
    "        # Add a small number to all zeros, to avoid division by zero:\n",
    "        x = tf.where(tf.equal(x, 0.0), x+epsilon, x)\n",
    "        y = tf.where(tf.equal(y, 0.0), y+epsilon, y)\n",
    "    \n",
    "        angle = tf.where(tf.greater(x,0.0), tf.atan(y/x), tf.zeros_like(x))\n",
    "        angle = tf.where(tf.logical_and(tf.less(x,0.0),  tf.greater_equal(y,0.0)), tf.atan(y/x) + np.pi, angle)\n",
    "        angle = tf.where(tf.logical_and(tf.less(x,0.0),  tf.less(y,0.0)), tf.atan(y/x) - np.pi, angle)\n",
    "        angle = tf.where(tf.logical_and(tf.equal(x,0.0), tf.greater(y,0.0)), 0.5*np.pi * tf.ones_like(x), angle)\n",
    "        angle = tf.where(tf.logical_and(tf.equal(x,0.0), tf.less(y,0.0)), -0.5*np.pi * tf.ones_like(x), angle)\n",
    "        angle = tf.where(tf.logical_and(tf.equal(x,0.0), tf.equal(y,0.0)), tf.zeros_like(x), angle)\n",
    "        return angle"
   ]
  },
  {
   "cell_type": "code",
   "execution_count": 24,
   "metadata": {
    "collapsed": true
   },
   "outputs": [],
   "source": [
    "def inner_prod(r_in, r_out, theta_in, theta_out):\n",
    "        \"\"\"\n",
    "        Takes the hyperbolic inner product\n",
    "        :param r_in: radius in the input embedding\n",
    "        :param r_out: radius in the output embedding\n",
    "        :param theta_in:\n",
    "        :param theta_out:\n",
    "        :return:\n",
    "        \"\"\"\n",
    "        cosine = tf.cos(theta_in - theta_out)\n",
    "        radius = tf.multiply(r_in, r_out)\n",
    "        return tf.multiply(cosine, radius)"
   ]
  },
  {
   "cell_type": "code",
   "execution_count": 25,
   "metadata": {
    "collapsed": true
   },
   "outputs": [],
   "source": [
    "def tensor_inner_prod(r_example, r_sample, theta_example, theta_sample):\n",
    "        \"\"\"\n",
    "        Calculate the inner product between the examples and the negative samples\n",
    "        :param r_example:\n",
    "        :param r_sample:\n",
    "        :param theta_example:\n",
    "        :param theta_sample:\n",
    "        :return:\n",
    "        \"\"\"\n",
    "        radius_term = tf.multiply(r_example[:, None], r_sample[None, :])\n",
    "        cos_term = theta_example[:, None] - theta_sample[None, :]\n",
    "        return tf.squeeze(tf.multiply(cos_term, radius_term))"
   ]
  },
  {
   "cell_type": "code",
   "execution_count": 26,
   "metadata": {
    "collapsed": false
   },
   "outputs": [],
   "source": [
    "vocab_size = 5\n",
    "init_width = 0.1\n",
    "x = tf.Variable(tf.random_uniform([vocab_size], -init_width, init_width), name=\"x\")\n",
    "y = tf.Variable(tf.random_uniform([vocab_size], -init_width, init_width), name=\"y\")\n",
    "radius_in = tf.sqrt(tf.square(x) + tf.square(y))\n",
    "theta_in = atan2(x, y)"
   ]
  },
  {
   "cell_type": "code",
   "execution_count": 27,
   "metadata": {
    "collapsed": false
   },
   "outputs": [],
   "source": [
    "sm_x = tf.Variable(tf.zeros([vocab_size]), name=\"sm_x\")\n",
    "sm_y = tf.Variable(tf.zeros([vocab_size]), name=\"sm_y\")\n",
    "radius_out = tf.sqrt(tf.square(sm_x) + tf.square(sm_y))\n",
    "theta_out = atan2(sm_x, sm_y)\n",
    "sm_b = tf.Variable(tf.zeros([vocab_size]), name=\"sm_b\")\n",
    "radius_out = tf.sqrt(tf.square(sm_x) + tf.square(sm_y))\n",
    "theta_out = atan2(sm_x, sm_y)"
   ]
  },
  {
   "cell_type": "code",
   "execution_count": 38,
   "metadata": {
    "collapsed": false
   },
   "outputs": [],
   "source": [
    "examples = tf.Variable([1,2])\n",
    "labels = tf.Variable([3,4])\n",
    "batch_size = tf.shape(examples)[0]\n",
    "labels_matrix = tf.reshape(\n",
    "                tf.cast(labels,\n",
    "                        dtype=tf.int64),\n",
    "                [batch_size, 1])"
   ]
  },
  {
   "cell_type": "code",
   "execution_count": 39,
   "metadata": {
    "collapsed": false
   },
   "outputs": [],
   "source": [
    "example_radius = tf.nn.embedding_lookup(radius_in, examples)\n",
    "example_theta = tf.nn.embedding_lookup(theta_in, examples)\n",
    "example_radius_hist = tf.summary.histogram('input_radius_embeddings', example_radius)\n",
    "example_theta_hist = tf.summary.histogram('input_theta_embeddings', example_theta)\n",
    "# Weights for labels: [batch_size, emb_dim]\n",
    "true_radius = tf.nn.embedding_lookup(radius_out, labels)\n",
    "true_theta = tf.nn.embedding_lookup(theta_out, labels)\n",
    "true_b = tf.nn.embedding_lookup(sm_b, labels)"
   ]
  },
  {
   "cell_type": "code",
   "execution_count": 40,
   "metadata": {
    "collapsed": false
   },
   "outputs": [],
   "source": [
    "true_logits = inner_prod(example_radius, true_radius, example_theta, true_theta) + true_b"
   ]
  },
  {
   "cell_type": "code",
   "execution_count": 42,
   "metadata": {
    "collapsed": false
   },
   "outputs": [],
   "source": [
    "num_samples = 2\n",
    "sampled_ids, _, _ = (tf.nn.fixed_unigram_candidate_sampler(\n",
    "                true_classes=labels_matrix,\n",
    "                num_true=1,\n",
    "                num_sampled=num_samples,\n",
    "                unique=True,\n",
    "                range_max=5,\n",
    "                distortion=0.75,\n",
    "                unigrams=[1.0,1.0,1.0,1.0,1.0]))\n",
    "sampled_radius = tf.nn.embedding_lookup(radius_out, sampled_ids)\n",
    "sampled_theta = tf.nn.embedding_lookup(theta_out, sampled_ids)"
   ]
  },
  {
   "cell_type": "code",
   "execution_count": 46,
   "metadata": {
    "collapsed": false
   },
   "outputs": [],
   "source": [
    "sampled_b = tf.nn.embedding_lookup(sm_b, sampled_ids)\n",
    "sampled_b_vec = tf.reshape(sampled_b, [num_samples])\n",
    "sampled_logits = tensor_inner_prod(example_radius, sampled_radius, example_theta,\n",
    "                                                    sampled_theta) + sampled_b_vec"
   ]
  },
  {
   "cell_type": "code",
   "execution_count": 47,
   "metadata": {
    "collapsed": false
   },
   "outputs": [
    {
     "name": "stdout",
     "output_type": "stream",
     "text": [
      "[ 0.  0.]\n",
      "[[ 0.  0.]\n",
      " [ 0.  0.]]\n"
     ]
    }
   ],
   "source": [
    "sess = tf.Session()\n",
    "init = tf.global_variables_initializer()\n",
    "sess.run(init)\n",
    "# print(sess.run(sampled_b))\n",
    "# print(sess.run(sampled_w))\n",
    "# print(sess.run(sampled_b_vec))\n",
    "print(sess.run(true_logits))\n",
    "print(sess.run(sampled_logits))"
   ]
  },
  {
   "cell_type": "code",
   "execution_count": 44,
   "metadata": {
    "collapsed": false
   },
   "outputs": [
    {
     "ename": "NameError",
     "evalue": "name 'sampled_b' is not defined",
     "output_type": "error",
     "traceback": [
      "\u001b[0;31m---------------------------------------------------------------------------\u001b[0m",
      "\u001b[0;31mNameError\u001b[0m                                 Traceback (most recent call last)",
      "\u001b[0;32m<ipython-input-44-4e00c77cd4af>\u001b[0m in \u001b[0;36m<module>\u001b[0;34m()\u001b[0m\n\u001b[0;32m----> 1\u001b[0;31m \u001b[0msampled_b_vec\u001b[0m \u001b[0;34m=\u001b[0m \u001b[0mtf\u001b[0m\u001b[0;34m.\u001b[0m\u001b[0mreshape\u001b[0m\u001b[0;34m(\u001b[0m\u001b[0msampled_b\u001b[0m\u001b[0;34m,\u001b[0m \u001b[0;34m[\u001b[0m\u001b[0mself\u001b[0m\u001b[0;34m.\u001b[0m\u001b[0mnum_samples\u001b[0m\u001b[0;34m]\u001b[0m\u001b[0;34m)\u001b[0m\u001b[0;34m\u001b[0m\u001b[0m\n\u001b[0m\u001b[1;32m      2\u001b[0m sampled_logits = self.tensor_inner_prod(example_radius, sampled_radius, example_theta,\n\u001b[1;32m      3\u001b[0m                                                     sampled_theta) + sampled_b_vec\n",
      "\u001b[0;31mNameError\u001b[0m: name 'sampled_b' is not defined"
     ]
    }
   ],
   "source": []
  },
  {
   "cell_type": "markdown",
   "metadata": {},
   "source": [
    "This is how to hack the gradients ie. to enforce the 1/r term in the theta component."
   ]
  }
 ],
 "metadata": {
  "kernelspec": {
   "display_name": "Python 2",
   "language": "python",
   "name": "python2"
  },
  "language_info": {
   "codemirror_mode": {
    "name": "ipython",
    "version": 2
   },
   "file_extension": ".py",
   "mimetype": "text/x-python",
   "name": "python",
   "nbconvert_exporter": "python",
   "pygments_lexer": "ipython2",
   "version": "2.7.12"
  }
 },
 "nbformat": 4,
 "nbformat_minor": 1
}
