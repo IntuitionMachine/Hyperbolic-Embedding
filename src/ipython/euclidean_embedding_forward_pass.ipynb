{
 "cells": [
  {
   "cell_type": "code",
   "execution_count": 1,
   "metadata": {
    "collapsed": true
   },
   "outputs": [],
   "source": [
    "import tensorflow as tf\n",
    "import math"
   ]
  },
  {
   "cell_type": "code",
   "execution_count": 2,
   "metadata": {
    "collapsed": false
   },
   "outputs": [],
   "source": [
    "embedding_size = 5\n",
    "init_width = 0.5 / embedding_size\n",
    "emb = tf.Variable(tf.random_uniform(\n",
    "                    [embedding_size, 2], -init_width, init_width),\n",
    "                name=\"emb\")\n",
    "sm_w_t = tf.Variable(\n",
    "                tf.zeros([embedding_size, 2]),\n",
    "                name=\"sm_w_t\")\n",
    "sm_b = tf.Variable(tf.zeros([embedding_size]), name=\"sm_b\")\n"
   ]
  },
  {
   "cell_type": "code",
   "execution_count": 3,
   "metadata": {
    "collapsed": true
   },
   "outputs": [],
   "source": [
    "examples = tf.Variable([1,2])\n",
    "labels = tf.Variable([3,4])"
   ]
  },
  {
   "cell_type": "code",
   "execution_count": 42,
   "metadata": {
    "collapsed": false
   },
   "outputs": [
    {
     "data": {
      "text/plain": [
       "array([[ 4,  5],\n",
       "       [ 8, 10],\n",
       "       [12, 15]])"
      ]
     },
     "execution_count": 42,
     "metadata": {},
     "output_type": "execute_result"
    }
   ],
   "source": [
    "r1 = np.array([1,2,3])\n",
    "r2 = np.array([4,5])\n",
    "np.multiply(r1[:, None], r2[None, :])"
   ]
  },
  {
   "cell_type": "code",
   "execution_count": null,
   "metadata": {
    "collapsed": true
   },
   "outputs": [],
   "source": []
  },
  {
   "cell_type": "code",
   "execution_count": 4,
   "metadata": {
    "collapsed": false
   },
   "outputs": [],
   "source": [
    "# Embeddings for examples: [batch_size, emb_dim]\n",
    "example_emb = tf.nn.embedding_lookup(emb, examples)\n",
    "# Weights for labels: [batch_size, emb_dim]\n",
    "true_w = tf.nn.embedding_lookup(sm_w_t, labels)\n",
    "# Biases for labels: [batch_size, 1]\n",
    "true_b = tf.nn.embedding_lookup(sm_b, labels)"
   ]
  },
  {
   "cell_type": "code",
   "execution_count": 5,
   "metadata": {
    "collapsed": true
   },
   "outputs": [],
   "source": [
    "num_samples = 3\n",
    "sampled_ids = tf.Variable([0,1,2])\n",
    "sampled_w = tf.nn.embedding_lookup(sm_w_t, sampled_ids)\n",
    "# Biases for sampled ids: [num_sampled, 1]\n",
    "sampled_b = tf.nn.embedding_lookup(sm_b, sampled_ids)"
   ]
  },
  {
   "cell_type": "code",
   "execution_count": 6,
   "metadata": {
    "collapsed": false
   },
   "outputs": [],
   "source": [
    "sampled_b_vec = tf.reshape(sampled_b, [num_samples])\n",
    "sampled_b_vec = tf.constant([1,2,3], dtype=tf.float32)"
   ]
  },
  {
   "cell_type": "code",
   "execution_count": 7,
   "metadata": {
    "collapsed": false
   },
   "outputs": [],
   "source": [
    "sampled_logits = tf.matmul(example_emb,\n",
    "                                       sampled_w,\n",
    "                                       transpose_b=True) + sampled_b_vec\n",
    "true_logits = tf.reduce_sum(tf.multiply(example_emb, true_w), 1) + true_b"
   ]
  },
  {
   "cell_type": "code",
   "execution_count": 15,
   "metadata": {
    "collapsed": false
   },
   "outputs": [
    {
     "name": "stdout",
     "output_type": "stream",
     "text": [
      "[0 4 1]\n"
     ]
    }
   ],
   "source": [
    "labels = tf.Variable([3,4])\n",
    "labels_matrix = tf.reshape(\n",
    "                tf.cast(labels,\n",
    "                        dtype=tf.int64),\n",
    "                [2, 1])\n",
    "num_samples = 3\n",
    "sampled_ids, _, _ = (tf.nn.fixed_unigram_candidate_sampler(\n",
    "                true_classes=labels_matrix,\n",
    "                num_true=1,\n",
    "                num_sampled=num_samples,\n",
    "                unique=True,\n",
    "                range_max=5,\n",
    "                distortion=0.75,\n",
    "                unigrams=[1.0,1.0,1.0,1.0,1.0]))\n",
    "sess = tf.Session()\n",
    "init = tf.global_variables_initializer()\n",
    "sess.run(init)\n",
    "print(sess.run(sampled_ids))"
   ]
  },
  {
   "cell_type": "code",
   "execution_count": 37,
   "metadata": {
    "collapsed": true
   },
   "outputs": [],
   "source": [
    "def atan2(x, y, epsilon=1.0e-12):\n",
    "        \"\"\"\n",
    "        A hack until the tf developers implement a function that can find the angle from an x and y co-ordinate.\n",
    "        :param x: \n",
    "        :param epsilon: \n",
    "        :return: \n",
    "        \"\"\"\n",
    "        # Add a small number to all zeros, to avoid division by zero:\n",
    "        x = tf.where(tf.equal(x, 0.0), x+epsilon, x)\n",
    "        y = tf.where(tf.equal(y, 0.0), y+epsilon, y)\n",
    "    \n",
    "        angle = tf.where(tf.greater(x,0.0), tf.atan(y/x), tf.zeros_like(x))\n",
    "        angle = tf.where(tf.logical_and(tf.less(x,0.0),  tf.greater_equal(y,0.0)), tf.atan(y/x) + np.pi, angle)\n",
    "        angle = tf.where(tf.logical_and(tf.less(x,0.0),  tf.less(y,0.0)), tf.atan(y/x) - np.pi, angle)\n",
    "        angle = tf.where(tf.logical_and(tf.equal(x,0.0), tf.greater(y,0.0)), 0.5*np.pi * tf.ones_like(x), angle)\n",
    "        angle = tf.where(tf.logical_and(tf.equal(x,0.0), tf.less(y,0.0)), -0.5*np.pi * tf.ones_like(x), angle)\n",
    "        angle = tf.where(tf.logical_and(tf.equal(x,0.0), tf.equal(y,0.0)), tf.zeros_like(x), angle)\n",
    "        return angle"
   ]
  },
  {
   "cell_type": "code",
   "execution_count": 44,
   "metadata": {
    "collapsed": false
   },
   "outputs": [],
   "source": [
    "init_width = 0.25\n",
    "emb = tf.Variable(tf.random_uniform([5, 2], -init_width, init_width), name=\"emb\")\n",
    "radius = tf.sqrt(tf.square(emb[:, 0]) + tf.square(emb[:, 1]))\n",
    "smw = tf.Variable(tf.zeros([5,2]))\n",
    "theta = atan2(smw[:,1], smw[:, 0])"
   ]
  },
  {
   "cell_type": "code",
   "execution_count": 45,
   "metadata": {
    "collapsed": false
   },
   "outputs": [
    {
     "name": "stdout",
     "output_type": "stream",
     "text": [
      "[[ 0.17610693 -0.19265127]\n",
      " [ 0.14702195  0.14185423]\n",
      " [-0.13774759 -0.12281919]\n",
      " [-0.02373785  0.14176118]\n",
      " [-0.19075501 -0.21062404]]\n",
      "[ 0.26101372  0.20429897  0.18455064  0.14373489  0.28416538]\n",
      "[ 0.78539819  0.78539819  0.78539819  0.78539819  0.78539819]\n"
     ]
    }
   ],
   "source": [
    "sess = tf.Session()\n",
    "init = tf.global_variables_initializer()\n",
    "sess.run(init)\n",
    "# print(sess.run(sampled_b))\n",
    "# print(sess.run(sampled_w))\n",
    "# print(sess.run(sampled_b_vec))\n",
    "print(sess.run(emb))\n",
    "radius = sess.run(radius)\n",
    "theta = sess.run(theta)\n",
    "print radius\n",
    "print theta\n",
    "# print radius*np.cos(theta)\n",
    "# print radius*np.sin(theta)\n"
   ]
  },
  {
   "cell_type": "code",
   "execution_count": null,
   "metadata": {
    "collapsed": true
   },
   "outputs": [],
   "source": []
  }
 ],
 "metadata": {
  "kernelspec": {
   "display_name": "Python 2",
   "language": "python",
   "name": "python2"
  },
  "language_info": {
   "codemirror_mode": {
    "name": "ipython",
    "version": 2
   },
   "file_extension": ".py",
   "mimetype": "text/x-python",
   "name": "python",
   "nbconvert_exporter": "python",
   "pygments_lexer": "ipython2",
   "version": "2.7.12"
  }
 },
 "nbformat": 4,
 "nbformat_minor": 1
}
