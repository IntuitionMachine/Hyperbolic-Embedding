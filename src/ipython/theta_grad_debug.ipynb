{
 "cells": [
  {
   "cell_type": "code",
   "execution_count": 49,
   "metadata": {
    "collapsed": true
   },
   "outputs": [],
   "source": [
    "import tensorflow as tf\n",
    "import math"
   ]
  },
  {
   "cell_type": "code",
   "execution_count": 50,
   "metadata": {
    "collapsed": true
   },
   "outputs": [],
   "source": [
    "def logit(r1, r2, theta1, theta2):\n",
    "    return r1*r2*np.cos(theta1 - theta2)"
   ]
  },
  {
   "cell_type": "code",
   "execution_count": 51,
   "metadata": {
    "collapsed": true
   },
   "outputs": [],
   "source": [
    "def grad_u(r1, r2, theta1, theta2):\n",
    "    return -1.0*r1*r2*np.sin(theta1 - theta2)"
   ]
  },
  {
   "cell_type": "code",
   "execution_count": 52,
   "metadata": {
    "collapsed": true
   },
   "outputs": [],
   "source": [
    "def sigmoid(x):\n",
    "    return 1.0 / (1.0 + np.exp(-x))"
   ]
  },
  {
   "cell_type": "code",
   "execution_count": 53,
   "metadata": {
    "collapsed": false
   },
   "outputs": [],
   "source": [
    "def grad(theta1, theta2):\n",
    "    error = sigmoid(logit(r1, r2, theta1, theta2))-1\n",
    "    return error*grad_u(r1, r2, theta1, theta2)"
   ]
  },
  {
   "cell_type": "code",
   "execution_count": 54,
   "metadata": {
    "collapsed": true
   },
   "outputs": [],
   "source": [
    "def tf_logits(r1,r2,theta1,theta2):\n",
    "    cos = tf.cos(theta1-theta2)\n",
    "    rad = tf.multiply(r1,r2)\n",
    "    return tf.multiply(cos, rad)"
   ]
  },
  {
   "cell_type": "code",
   "execution_count": 188,
   "metadata": {
    "collapsed": false
   },
   "outputs": [],
   "source": [
    "example = 1\n",
    "theta1 = tf.Variable(math.pi/3.0, name='theta1')\n",
    "theta2 = tf.Variable(math.pi/6.0, name='theta2')\n",
    "theta3 = tf.Variable(math.pi/3.0, name='theta1')\n",
    "theta4 = tf.Variable(math.pi/6.0, name='theta2')\n",
    "radius1 = tf.Variable(1.0)\n",
    "radius2 = tf.Variable(1.0)\n",
    "radius3 = tf.Variable(1.0)\n",
    "radius4 = tf.Variable(1.0)\n",
    "\n",
    "b = tf.Variable(1.0, name='b')\n",
    "true_logits = tf_logits(radius1,radius2,theta1,theta2)\n",
    "sampled_logits = tf_logits(radius3,radius4,theta3,theta4)\n",
    "true_xent = tf.nn.sigmoid_cross_entropy_with_logits(\n",
    "            logits=true_logits, labels=tf.ones_like(true_logits))\n",
    "sampled_xent = tf.nn.sigmoid_cross_entropy_with_logits(\n",
    "            logits=sampled_logits, labels=tf.zeros_like(sampled_logits))\n",
    "loss = true_xent + sampled_xent + b\n",
    "opt = tf.train.GradientDescentOptimizer(1.0)\n",
    "grads = opt.compute_gradients(loss, [theta1, theta2, theta3, theta4])\n",
    "apply_grad = opt.apply_gradients(grads)"
   ]
  },
  {
   "cell_type": "code",
   "execution_count": 189,
   "metadata": {
    "collapsed": false
   },
   "outputs": [
    {
     "ename": "TypeError",
     "evalue": "'list' object is not callable",
     "output_type": "error",
     "traceback": [
      "\u001b[0;31m---------------------------------------------------------------------------\u001b[0m",
      "\u001b[0;31mTypeError\u001b[0m                                 Traceback (most recent call last)",
      "\u001b[0;32m<ipython-input-189-58084081bfea>\u001b[0m in \u001b[0;36m<module>\u001b[0;34m()\u001b[0m\n\u001b[1;32m      5\u001b[0m         \u001b[0mb_val\u001b[0m \u001b[0;34m=\u001b[0m \u001b[0;36m1.0\u001b[0m\u001b[0;34m\u001b[0m\u001b[0m\n\u001b[1;32m      6\u001b[0m         \u001b[0mt1\u001b[0m\u001b[0;34m,\u001b[0m \u001b[0mt2\u001b[0m \u001b[0;34m=\u001b[0m \u001b[0msess\u001b[0m\u001b[0;34m.\u001b[0m\u001b[0mrun\u001b[0m\u001b[0;34m(\u001b[0m\u001b[0;34m[\u001b[0m\u001b[0mtheta1\u001b[0m\u001b[0;34m,\u001b[0m \u001b[0mtheta2\u001b[0m\u001b[0;34m]\u001b[0m\u001b[0;34m)\u001b[0m\u001b[0;34m\u001b[0m\u001b[0m\n\u001b[0;32m----> 7\u001b[0;31m         \u001b[0mtheta1_grad\u001b[0m \u001b[0;34m=\u001b[0m \u001b[0mgrad\u001b[0m\u001b[0;34m(\u001b[0m\u001b[0mt1\u001b[0m\u001b[0;34m,\u001b[0m \u001b[0mt2\u001b[0m\u001b[0;34m)\u001b[0m\u001b[0;34m\u001b[0m\u001b[0m\n\u001b[0m\u001b[1;32m      8\u001b[0m         \u001b[0;32mprint\u001b[0m\u001b[0;34m(\u001b[0m\u001b[0;34m'grad should be: '\u001b[0m\u001b[0;34m,\u001b[0m \u001b[0mtheta1_grad\u001b[0m\u001b[0;34m)\u001b[0m\u001b[0;34m\u001b[0m\u001b[0m\n\u001b[1;32m      9\u001b[0m         \u001b[0mgrad_vals\u001b[0m \u001b[0;34m=\u001b[0m \u001b[0msess\u001b[0m\u001b[0;34m.\u001b[0m\u001b[0mrun\u001b[0m\u001b[0;34m(\u001b[0m\u001b[0mgrads\u001b[0m\u001b[0;34m,\u001b[0m \u001b[0mfeed_dict\u001b[0m\u001b[0;34m=\u001b[0m\u001b[0;34m{\u001b[0m\u001b[0mb\u001b[0m\u001b[0;34m:\u001b[0m \u001b[0mb_val\u001b[0m\u001b[0;34m}\u001b[0m\u001b[0;34m)\u001b[0m\u001b[0;34m\u001b[0m\u001b[0m\n",
      "\u001b[0;31mTypeError\u001b[0m: 'list' object is not callable"
     ]
    }
   ],
   "source": [
    "\n",
    "with tf.Session() as sess:\n",
    "    sess.run(tf.global_variables_initializer())\n",
    "    for epoch in range(10):\n",
    "        b_val = 1.0    \n",
    "        t1, t2 = sess.run([theta1, theta2])\n",
    "        theta1_grad = grad(t1, t2)\n",
    "        print('grad should be: ', theta1_grad)\n",
    "        grad_vals = sess.run(grads, feed_dict={b: b_val})\n",
    "        print(grad_vals)\n",
    "        sess.run(apply_grad, feed_dict={b: b_val})\n",
    "#         assert(grad_vals[0][0] == theta1_grad)\n",
    "\n",
    "# r = tf.Variable([2.0,1.0, 3.0], name='r')\n",
    "# # b placeholder (simualtes the \"data\" part of the training)\n",
    "# b = tf.placeholder(tf.float32)\n",
    "# # make model (1/2)(x-b)^2\n",
    "# example_radius = tf.nn.embedding_lookup(r, example)\n",
    "# example_theta = tf.nn.embedding_lookup(theta, example)\n",
    "# loss = example_radius*tf.cos(example_theta) - b\n",
    "# learning_rate = 1.0\n"
   ]
  },
  {
   "cell_type": "code",
   "execution_count": 179,
   "metadata": {
    "collapsed": false
   },
   "outputs": [],
   "source": [
    "x = tf.Variable([0,1,2,3], dtype=tf.float32)\n",
    "y = tf.Variable([0,1,2,3], dtype=tf.float32)\n",
    "ex1 = tf.placeholder(tf.int32)\n",
    "ex2 = tf.placeholder(tf.int32)\n",
    "# example = tf.Variable(1)\n",
    "a = tf.nn.embedding_lookup(x,ex1)\n",
    "b = tf.nn.embedding_lookup(y,ex2)\n",
    "c = tf.cos(tf.subtract(a, b))\n",
    "loss = c - 1.0\n",
    "opt = tf.train.GradientDescentOptimizer(1.0)\n",
    "grad_y = opt.compute_gradients(loss, [y])\n",
    "grad_x = opt.compute_gradients(loss, [x])\n",
    "apply_grad = opt.apply_gradients(grad_y + grad_x)"
   ]
  },
  {
   "cell_type": "code",
   "execution_count": 180,
   "metadata": {
    "collapsed": false
   },
   "outputs": [],
   "source": [
    "def grad_y_fun(y, yidx, x, xidx):\n",
    "    print('evaluating grad at y: ', y, 'and index: ', yidx)\n",
    "    yvals = y[yidx]\n",
    "    xvals = x[xidx]\n",
    "#     print('vals are: ', vals)\n",
    "    return np.sin(xvals - yvals)"
   ]
  },
  {
   "cell_type": "code",
   "execution_count": 181,
   "metadata": {
    "collapsed": true
   },
   "outputs": [],
   "source": [
    "def check_equivalence(autograd, grad):\n",
    "    autos = autograd[0][0].values\n",
    "    for x,y in zip(grad, autos):\n",
    "        assert(x==y)"
   ]
  },
  {
   "cell_type": "code",
   "execution_count": 187,
   "metadata": {
    "collapsed": true
   },
   "outputs": [
    {
     "name": "stdout",
     "output_type": "stream",
     "text": [
      "[ 0.  1.  2.  3.]\n",
      "[(IndexedSlicesValue(values=array([-0.84147096, -0.90929741], dtype=float32), indices=array([2, 3], dtype=int32), dense_shape=array([4], dtype=int32)), array([ 0.,  1.,  2.,  3.], dtype=float32))]\n",
      "('evaluating grad at y: ', array([ 0.,  1.,  2.,  3.], dtype=float32), 'and index: ', array([2, 3]))\n",
      "('evaluating grad at y: ', array([ 0.,  1.,  2.,  3.], dtype=float32), 'and index: ', array([2, 3]))\n",
      "('grad should be: ', array([-0.84147096, -0.90929741], dtype=float32))\n",
      "[ 0.          1.          2.84147096  3.90929747]\n",
      "[ 0.54030228 -0.41614684]\n",
      "[ 0.          1.          2.84147096  3.90929747]\n",
      "[(IndexedSlicesValue(values=array([ 0.4355478 ,  0.99863142], dtype=float32), indices=array([2, 3], dtype=int32), dense_shape=array([4], dtype=int32)), array([ 0.        ,  1.        ,  2.84147096,  3.90929747], dtype=float32))]\n",
      "('evaluating grad at y: ', array([ 0.        ,  1.        ,  2.84147096,  3.90929747], dtype=float32), 'and index: ', array([2, 3]))\n",
      "('evaluating grad at y: ', array([ 0.        ,  1.        ,  2.84147096,  3.90929747], dtype=float32), 'and index: ', array([2, 3]))\n",
      "('grad should be: ', array([ 0.4355478 ,  0.99863142], dtype=float32))\n",
      "[ 0.          1.          2.40592313  2.91066599]\n",
      "[-0.90016562 -0.05229946]\n",
      "[ 0.          1.          2.40592313  2.91066599]\n",
      "[(IndexedSlicesValue(values=array([-0.98851317, -0.79215848], dtype=float32), indices=array([2, 3], dtype=int32), dense_shape=array([4], dtype=int32)), array([ 0.        ,  1.        ,  2.40592313,  2.91066599], dtype=float32))]\n",
      "('evaluating grad at y: ', array([ 0.        ,  1.        ,  2.40592313,  2.91066599], dtype=float32), 'and index: ', array([2, 3]))\n",
      "('evaluating grad at y: ', array([ 0.        ,  1.        ,  2.40592313,  2.91066599], dtype=float32), 'and index: ', array([2, 3]))\n",
      "('grad should be: ', array([-0.98851317, -0.79215848], dtype=float32))\n",
      "[ 0.          1.          3.39443636  3.70282459]\n",
      "[-0.15113457 -0.6103155 ]\n",
      "[ 0.          1.          3.39443636  3.70282459]\n",
      "[(IndexedSlicesValue(values=array([ 0.97574627,  0.99615717], dtype=float32), indices=array([2, 3], dtype=int32), dense_shape=array([4], dtype=int32)), array([ 0.        ,  1.        ,  3.39443636,  3.70282459], dtype=float32))]\n",
      "('evaluating grad at y: ', array([ 0.        ,  1.        ,  3.39443636,  3.70282459], dtype=float32), 'and index: ', array([2, 3]))\n",
      "('evaluating grad at y: ', array([ 0.        ,  1.        ,  3.39443636,  3.70282459], dtype=float32), 'and index: ', array([2, 3]))\n",
      "('grad should be: ', array([ 0.97574627,  0.99615717], dtype=float32))\n",
      "[ 0.          1.          2.4186902   2.70666742]\n",
      "[-0.21890457  0.08758373]\n",
      "[ 0.          1.          2.4186902   2.70666742]\n",
      "[(IndexedSlicesValue(values=array([-0.99964225, -0.96607345], dtype=float32), indices=array([2, 3], dtype=int32), dense_shape=array([4], dtype=int32)), array([ 0.        ,  1.        ,  2.4186902 ,  2.70666742], dtype=float32))]\n",
      "('evaluating grad at y: ', array([ 0.        ,  1.        ,  2.4186902 ,  2.70666742], dtype=float32), 'and index: ', array([2, 3]))\n",
      "('evaluating grad at y: ', array([ 0.        ,  1.        ,  2.4186902 ,  2.70666742], dtype=float32), 'and index: ', array([2, 3]))\n",
      "('grad should be: ', array([-0.99964225, -0.96607345], dtype=float32))\n",
      "[ 0.          1.          3.41833258  3.67274094]\n",
      "[ 0.02674566 -0.25826743]\n",
      "[ 0.          1.          3.41833258  3.67274094]\n",
      "[(IndexedSlicesValue(values=array([ 0.97946954,  0.99867803], dtype=float32), indices=array([2, 3], dtype=int32), dense_shape=array([4], dtype=int32)), array([ 0.        ,  1.        ,  3.41833258,  3.67274094], dtype=float32))]\n",
      "('evaluating grad at y: ', array([ 0.        ,  1.        ,  3.41833258,  3.67274094], dtype=float32), 'and index: ', array([2, 3]))\n",
      "('evaluating grad at y: ', array([ 0.        ,  1.        ,  3.41833258,  3.67274094], dtype=float32), 'and index: ', array([2, 3]))\n",
      "('grad should be: ', array([ 0.97946954,  0.99867803], dtype=float32))\n",
      "[ 0.          1.          2.43886304  2.67406297]\n",
      "[-0.20159234  0.05140233]\n",
      "[ 0.          1.          2.43886304  2.67406297]\n",
      "[(IndexedSlicesValue(values=array([-0.99981934, -0.97672135], dtype=float32), indices=array([2, 3], dtype=int32), dense_shape=array([4], dtype=int32)), array([ 0.        ,  1.        ,  2.43886304,  2.67406297], dtype=float32))]\n",
      "('evaluating grad at y: ', array([ 0.        ,  1.        ,  2.43886304,  2.67406297], dtype=float32), 'and index: ', array([2, 3]))\n",
      "('evaluating grad at y: ', array([ 0.        ,  1.        ,  2.43886304,  2.67406297], dtype=float32), 'and index: ', array([2, 3]))\n",
      "('grad should be: ', array([-0.99981934, -0.97672135], dtype=float32))\n",
      "[ 0.          1.          3.43868232  3.65078425]\n",
      "[ 0.01900661 -0.21451201]\n",
      "[ 0.          1.          3.43868232  3.65078425]\n",
      "[(IndexedSlicesValue(values=array([ 0.98307568,  0.99961191], dtype=float32), indices=array([2, 3], dtype=int32), dense_shape=array([4], dtype=int32)), array([ 0.        ,  1.        ,  3.43868232,  3.65078425], dtype=float32))]\n",
      "('evaluating grad at y: ', array([ 0.        ,  1.        ,  3.43868232,  3.65078425], dtype=float32), 'and index: ', array([2, 3]))\n",
      "('evaluating grad at y: ', array([ 0.        ,  1.        ,  3.43868232,  3.65078425], dtype=float32), 'and index: ', array([2, 3]))\n",
      "('grad should be: ', array([ 0.98307568,  0.99961191], dtype=float32))\n",
      "[ 0.         1.         2.4556067  2.6511724]\n",
      "[-0.18319978  0.027858  ]\n",
      "[ 0.         1.         2.4556067  2.6511724]\n",
      "[(IndexedSlicesValue(values=array([-0.99996465, -0.98253763], dtype=float32), indices=array([2, 3], dtype=int32), dense_shape=array([4], dtype=int32)), array([ 0.       ,  1.       ,  2.4556067,  2.6511724], dtype=float32))]\n",
      "('evaluating grad at y: ', array([ 0.       ,  1.       ,  2.4556067,  2.6511724], dtype=float32), 'and index: ', array([2, 3]))\n",
      "('evaluating grad at y: ', array([ 0.       ,  1.       ,  2.4556067,  2.6511724], dtype=float32), 'and index: ', array([2, 3]))\n",
      "('grad should be: ', array([-0.99996465, -0.98253763], dtype=float32))\n",
      "[ 0.          1.          3.45557141  3.63370991]\n",
      "[ 0.00841103 -0.18606392]\n",
      "[ 0.          1.          3.45557141  3.63370991]\n",
      "[(IndexedSlicesValue(values=array([ 0.98599851,  0.99994379], dtype=float32), indices=array([2, 3], dtype=int32), dense_shape=array([4], dtype=int32)), array([ 0.        ,  1.        ,  3.45557141,  3.63370991], dtype=float32))]\n",
      "('evaluating grad at y: ', array([ 0.        ,  1.        ,  3.45557141,  3.63370991], dtype=float32), 'and index: ', array([2, 3]))\n",
      "('evaluating grad at y: ', array([ 0.        ,  1.        ,  3.45557141,  3.63370991], dtype=float32), 'and index: ', array([2, 3]))\n",
      "('grad should be: ', array([ 0.98599851,  0.99994379], dtype=float32))\n",
      "[ 0.          1.          2.46957302  2.63376617]\n",
      "[-0.16675407  0.01060181]\n",
      "[ 0.          1.          2.46957302  2.63376617]\n",
      "[(IndexedSlicesValue(values=array([-0.99999774, -0.9862026 ], dtype=float32), indices=array([2, 3], dtype=int32), dense_shape=array([4], dtype=int32)), array([ 0.        ,  1.        ,  2.46957302,  2.63376617], dtype=float32))]\n",
      "('evaluating grad at y: ', array([ 0.        ,  1.        ,  2.46957302,  2.63376617], dtype=float32), 'and index: ', array([2, 3]))\n",
      "('evaluating grad at y: ', array([ 0.        ,  1.        ,  2.46957302,  2.63376617], dtype=float32), 'and index: ', array([2, 3]))\n",
      "('grad should be: ', array([-0.99999774, -0.9862026 ], dtype=float32))\n",
      "[ 0.          1.          3.46957064  3.61996889]\n",
      "[-0.00211517 -0.16554275]\n",
      "[ 0.          1.          3.46957064  3.61996889]\n",
      "[(IndexedSlicesValue(values=array([ 0.98827571,  0.99999583], dtype=float32), indices=array([2, 3], dtype=int32), dense_shape=array([4], dtype=int32)), array([ 0.        ,  1.        ,  3.46957064,  3.61996889], dtype=float32))]\n",
      "('evaluating grad at y: ', array([ 0.        ,  1.        ,  3.46957064,  3.61996889], dtype=float32), 'and index: ', array([2, 3]))\n",
      "('evaluating grad at y: ', array([ 0.        ,  1.        ,  3.46957064,  3.61996889], dtype=float32), 'and index: ', array([2, 3]))\n",
      "('grad should be: ', array([ 0.98827571,  0.99999583], dtype=float32))\n",
      "[ 0.          1.          2.48129487  2.61997318]\n",
      "[-0.15267979 -0.00288103]\n",
      "[ 0.          1.          2.48129487  2.61997318]\n",
      "[(IndexedSlicesValue(values=array([-0.9999308 , -0.98870462], dtype=float32), indices=array([2, 3], dtype=int32), dense_shape=array([4], dtype=int32)), array([ 0.        ,  1.        ,  2.48129487,  2.61997318], dtype=float32))]\n",
      "('evaluating grad at y: ', array([ 0.        ,  1.        ,  2.48129487,  2.61997318], dtype=float32), 'and index: ', array([2, 3]))\n",
      "('evaluating grad at y: ', array([ 0.        ,  1.        ,  2.48129487,  2.61997318], dtype=float32), 'and index: ', array([2, 3]))\n",
      "('grad should be: ', array([-0.9999308 , -0.98870462], dtype=float32))\n",
      "[ 0.          1.          3.48122573  3.60867786]\n",
      "[-0.01176561 -0.14987732]\n",
      "[ 0.          1.          3.48122573  3.60867786]\n",
      "[(IndexedSlicesValue(values=array([ 0.99003929,  0.99990469], dtype=float32), indices=array([2, 3], dtype=int32), dense_shape=array([4], dtype=int32)), array([ 0.        ,  1.        ,  3.48122573,  3.60867786], dtype=float32))]\n",
      "('evaluating grad at y: ', array([ 0.        ,  1.        ,  3.48122573,  3.60867786], dtype=float32), 'and index: ', array([2, 3]))\n",
      "('evaluating grad at y: ', array([ 0.        ,  1.        ,  3.48122573,  3.60867786], dtype=float32), 'and index: ', array([2, 3]))\n",
      "('grad should be: ', array([ 0.99003929,  0.99990469], dtype=float32))\n",
      "[ 0.          1.          2.49118638  2.60877323]\n",
      "[-0.14079128 -0.0138078 ]\n",
      "[ 0.          1.          2.49118638  2.60877323]\n",
      "[(IndexedSlicesValue(values=array([-0.99979299, -0.99050194], dtype=float32), indices=array([2, 3], dtype=int32), dense_shape=array([4], dtype=int32)), array([ 0.        ,  1.        ,  2.49118638,  2.60877323], dtype=float32))]\n",
      "('evaluating grad at y: ', array([ 0.        ,  1.        ,  2.49118638,  2.60877323], dtype=float32), 'and index: ', array([2, 3]))\n",
      "('evaluating grad at y: ', array([ 0.        ,  1.        ,  2.49118638,  2.60877323], dtype=float32), 'and index: ', array([2, 3]))\n",
      "('grad should be: ', array([-0.99979299, -0.99050194], dtype=float32))\n",
      "[ 0.          1.          3.49097943  3.59927511]\n",
      "[-0.02034731 -0.13749859]\n",
      "[ 0.          1.          3.49097943  3.59927511]\n",
      "[(IndexedSlicesValue(values=array([ 0.99141139,  0.99973869], dtype=float32), indices=array([2, 3], dtype=int32), dense_shape=array([4], dtype=int32)), array([ 0.        ,  1.        ,  3.49097943,  3.59927511], dtype=float32))]\n",
      "('evaluating grad at y: ', array([ 0.        ,  1.        ,  3.49097943,  3.59927511], dtype=float32), 'and index: ', array([2, 3]))\n",
      "('evaluating grad at y: ', array([ 0.        ,  1.        ,  3.49097943,  3.59927511], dtype=float32), 'and index: ', array([2, 3]))\n",
      "('grad should be: ', array([ 0.99141139,  0.99973869], dtype=float32))\n",
      "[ 0.          1.          2.49956799  2.59953642]\n",
      "[-0.13078026 -0.02285852]\n",
      "[ 0.          1.          2.49956799  2.59953642]\n",
      "[(IndexedSlicesValue(values=array([-0.9996115 , -0.99183911], dtype=float32), indices=array([2, 3], dtype=int32), dense_shape=array([4], dtype=int32)), array([ 0.        ,  1.        ,  2.49956799,  2.59953642], dtype=float32))]\n",
      "('evaluating grad at y: ', array([ 0.        ,  1.        ,  2.49956799,  2.59953642], dtype=float32), 'and index: ', array([2, 3]))\n",
      "('evaluating grad at y: ', array([ 0.        ,  1.        ,  2.49956799,  2.59953642], dtype=float32), 'and index: ', array([2, 3]))\n",
      "('grad should be: ', array([-0.9996115 , -0.99183911], dtype=float32))\n",
      "[ 0.          1.          3.49917936  3.59137559]\n",
      "[-0.0278715  -0.12749559]\n",
      "[ 0.          1.          3.49917936  3.59137559]\n",
      "[(IndexedSlicesValue(values=array([ 0.99248725,  0.99953616], dtype=float32), indices=array([2, 3], dtype=int32), dense_shape=array([4], dtype=int32)), array([ 0.        ,  1.        ,  3.49917936,  3.59137559], dtype=float32))]\n",
      "('evaluating grad at y: ', array([ 0.        ,  1.        ,  3.49917936,  3.59137559], dtype=float32), 'and index: ', array([2, 3]))\n",
      "('evaluating grad at y: ', array([ 0.        ,  1.        ,  3.49917936,  3.59137559], dtype=float32), 'and index: ', array([2, 3]))\n",
      "('grad should be: ', array([ 0.99248725,  0.99953616], dtype=float32))\n",
      "[ 0.          1.          2.50669217  2.59183931]\n",
      "[-0.12234806 -0.03045468]\n",
      "[ 0.          1.          2.50669217  2.59183931]\n",
      "[(IndexedSlicesValue(values=array([-0.99940747, -0.9928596 ], dtype=float32), indices=array([2, 3], dtype=int32), dense_shape=array([4], dtype=int32)), array([ 0.        ,  1.        ,  2.50669217,  2.59183931], dtype=float32))]\n",
      "('evaluating grad at y: ', array([ 0.        ,  1.        ,  2.50669217,  2.59183931], dtype=float32), 'and index: ', array([2, 3]))\n",
      "('evaluating grad at y: ', array([ 0.        ,  1.        ,  2.50669217,  2.59183931], dtype=float32), 'and index: ', array([2, 3]))\n",
      "('grad should be: ', array([-0.99940747, -0.9928596 ], dtype=float32))\n",
      "[ 0.          1.          3.5060997   3.58469892]\n",
      "[-0.03441981 -0.11928902]\n",
      "[ 0.          1.          3.5060997   3.58469892]\n",
      "[(IndexedSlicesValue(values=array([ 0.99333829,  0.99931955], dtype=float32), indices=array([2, 3], dtype=int32), dense_shape=array([4], dtype=int32)), array([ 0.        ,  1.        ,  3.5060997 ,  3.58469892], dtype=float32))]\n",
      "('evaluating grad at y: ', array([ 0.        ,  1.        ,  3.5060997 ,  3.58469892], dtype=float32), 'and index: ', array([2, 3]))\n",
      "('evaluating grad at y: ', array([ 0.        ,  1.        ,  3.5060997 ,  3.58469892], dtype=float32), 'and index: ', array([2, 3]))\n",
      "('grad should be: ', array([ 0.99333829,  0.99931955], dtype=float32))\n",
      "[ 0.          1.          2.51276135  2.58537936]\n",
      "[-0.11523481 -0.03688403]\n"
     ]
    }
   ],
   "source": [
    "with tf.Session() as sess:\n",
    "    sess.run(tf.global_variables_initializer())\n",
    "    for epoch in range(20):\n",
    "        e1 = np.array([1, 1])\n",
    "        e2 = np.array([2, 3])\n",
    "        gy, gx, y_val, x_val = sess.run([grad_y, grad_x, y, x], feed_dict={ex1:e1, ex2:e2})\n",
    "#         print(cn)\n",
    "        print(y_val)\n",
    "        print(gy)\n",
    "        my_grad = grad_y_fun(y_val, e2, x_val, e1)\n",
    "        check_equivalence(gy, my_grad)\n",
    "        print('grad should be: ', grad_y_fun(y_val, e2, x_val, e1))\n",
    "        _, cn, yval = sess.run([apply_grad, c, y], feed_dict={ex1:e1, ex2:e2})\n",
    "        print(yval)\n",
    "        print(cn)  \n",
    "        "
   ]
  },
  {
   "cell_type": "code",
   "execution_count": 200,
   "metadata": {
    "collapsed": false
   },
   "outputs": [
    {
     "data": {
      "text/plain": [
       "-0.0015360325"
      ]
     },
     "execution_count": 200,
     "metadata": {},
     "output_type": "execute_result"
    }
   ],
   "source": [
    "-0.00614413/4"
   ]
  },
  {
   "cell_type": "code",
   "execution_count": 201,
   "metadata": {
    "collapsed": false
   },
   "outputs": [
    {
     "data": {
      "text/plain": [
       "-0.003295935"
      ]
     },
     "execution_count": 201,
     "metadata": {},
     "output_type": "execute_result"
    }
   ],
   "source": [
    "-0.01318374/4"
   ]
  },
  {
   "cell_type": "code",
   "execution_count": 203,
   "metadata": {
    "collapsed": false
   },
   "outputs": [
    {
     "data": {
      "text/plain": [
       "array([2])"
      ]
     },
     "execution_count": 203,
     "metadata": {},
     "output_type": "execute_result"
    }
   ],
   "source": [
    "x = np.array([1,2,3])\n",
    "y = np.where(x==2)\n",
    "x[y]"
   ]
  },
  {
   "cell_type": "code",
   "execution_count": null,
   "metadata": {
    "collapsed": true
   },
   "outputs": [],
   "source": []
  }
 ],
 "metadata": {
  "kernelspec": {
   "display_name": "Python 2",
   "language": "python",
   "name": "python2"
  },
  "language_info": {
   "codemirror_mode": {
    "name": "ipython",
    "version": 2
   },
   "file_extension": ".py",
   "mimetype": "text/x-python",
   "name": "python",
   "nbconvert_exporter": "python",
   "pygments_lexer": "ipython2",
   "version": "2.7.12"
  }
 },
 "nbformat": 4,
 "nbformat_minor": 1
}
